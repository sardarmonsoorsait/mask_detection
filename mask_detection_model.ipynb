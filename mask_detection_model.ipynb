{
  "nbformat": 4,
  "nbformat_minor": 0,
  "metadata": {
    "colab": {
      "name": "mask_detection_model.ipynb",
      "provenance": [],
      "mount_file_id": "1GvEIXDYTsSquR3pwjJUb7RvI-4KjTuGi",
      "authorship_tag": "ABX9TyPQvIs2Hrojz5+haYStKbRZ",
      "include_colab_link": true
    },
    "kernelspec": {
      "name": "python3",
      "display_name": "Python 3"
    }
  },
  "cells": [
    {
      "cell_type": "markdown",
      "metadata": {
        "id": "view-in-github",
        "colab_type": "text"
      },
      "source": [
        "<a href=\"https://colab.research.google.com/github/sardarmonsoorsait/mask_detection/blob/main/mask_detection_model.ipynb\" target=\"_parent\"><img src=\"https://colab.research.google.com/assets/colab-badge.svg\" alt=\"Open In Colab\"/></a>"
      ]
    },
    {
      "cell_type": "code",
      "metadata": {
        "id": "xamwPCKCMu-Q"
      },
      "source": [
        "import keras\n",
        "import tensorflow\n"
      ],
      "execution_count": null,
      "outputs": []
    },
    {
      "cell_type": "code",
      "metadata": {
        "colab": {
          "base_uri": "https://localhost:8080/"
        },
        "id": "e8tu7-_3VXit",
        "outputId": "42a86316-9f73-4982-d3fd-0289c8e6697e"
      },
      "source": [
        "print(keras.__version__)\n",
        "print(tensorflow.__version__)"
      ],
      "execution_count": null,
      "outputs": [
        {
          "output_type": "stream",
          "text": [
            "2.4.3\n",
            "2.3.0\n"
          ],
          "name": "stdout"
        }
      ]
    },
    {
      "cell_type": "code",
      "metadata": {
        "colab": {
          "base_uri": "https://localhost:8080/"
        },
        "id": "6P0bK6EjVp1m",
        "outputId": "8d7eabc3-e30e-48fc-ab2c-c96d3139d6f9"
      },
      "source": [
        "pip install tensorflow 2.2.0"
      ],
      "execution_count": null,
      "outputs": [
        {
          "output_type": "stream",
          "text": [
            "Requirement already satisfied: tensorflow in /usr/local/lib/python3.6/dist-packages (2.3.0)\n",
            "\u001b[31mERROR: Could not find a version that satisfies the requirement 2.2.0 (from versions: none)\u001b[0m\n",
            "\u001b[31mERROR: No matching distribution found for 2.2.0\u001b[0m\n"
          ],
          "name": "stdout"
        }
      ]
    }
  ]
}